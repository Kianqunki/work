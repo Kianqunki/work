{
 "cells": [
  {
   "cell_type": "code",
   "execution_count": null,
   "metadata": {
    "collapsed": true
   },
   "outputs": [],
   "source": [
    "import numpy as np\n",
    "import scipy\n",
    "\n",
    "\"\"\"\n",
    "Functions for computing whether or not predictions are anomalies or not\n",
    "\"\"\"\n",
    "\n",
    "def prediction_error(predicted, expected):\n",
    "        \"\"\"\n",
    "        calculate prediction error\n",
    "        \"\"\"\n",
    "        T = np.size(predicted)\n",
    "        S = np.zeros(T)\n",
    "\n",
    "        # Loop across rows\n",
    "        for t in np.arange(T):\n",
    "            # Commonality between matricies\n",
    "            top = np.dot(predicted[t],expected[t]) \n",
    "\n",
    "            # Total number of bits in ISM\n",
    "            bottom = np.sum(expected[t]) # not norm*\n",
    "\n",
    "            # Calculate Prediction error\n",
    "            S[t] = 1 - (top/(bottom))\n",
    "        \n",
    "        return S\n",
    "\n",
    "def anomaly_likelihood(S):\n",
    "    \"\"\"\n",
    "    Calculate the anomaly likelihood\n",
    "\n",
    "    \"\"\" \n",
    "    T = np.size(S)\n",
    "    L = np.zeros(T)\n",
    "\n",
    "    # Model distribution of Prediction error values as \"rolling normal distribution\"\n",
    "    W = 10 # Long-term window size\n",
    "    w = 2  # Short-term window size\n",
    "    epsilon = 10**-5 # Anomaly threshold\n",
    "\n",
    "    for t in np.arange(T):\n",
    "        W_range = np.arange(t,t-(W-1),-1)\n",
    "        w_range = np.arange(t,t-(w-1),-1)\n",
    "\n",
    "        # Long-term window mean\n",
    "        mew_W = np.sum(S[W_range])/ W\n",
    "\n",
    "        # Normal window standard deviation\n",
    "        sigma_W = np.sum((S[W_range]-mew_W)**2) / (W-1)\n",
    "\n",
    "        # Short-term window mean\n",
    "        mew_w = np.sum(S[w_range])/ w \n",
    "\n",
    "        # Anomaly likelihood\n",
    "        L[t] = 1 - Q_func((mew_w - mew_W)/sigma_W)\n",
    "\n",
    "        # Threshold where likelihood very high [> 0.99999]\n",
    "        Anomaly = L[L>=1-epsilon]   \n",
    "\n",
    "    return L\n",
    "    \n",
    "\n",
    "def Q_func(x):\n",
    "    \"\"\"\n",
    "    Normal distribution tail function approximation\n",
    "    \"\"\"\n",
    "    return (1/2)*scipy.special.erf(x/np.sqrt(2))\n",
    "    \n",
    "\n",
    "S = prediction_error(predicted=predictions, expected=raw_values)\n",
    "A = anomaly_likelihood(S)\n"
   ]
  }
 ],
 "metadata": {
  "kernelspec": {
   "display_name": "Python 3",
   "language": "python",
   "name": "python3"
  },
  "language_info": {
   "codemirror_mode": {
    "name": "ipython",
    "version": 3
   },
   "file_extension": ".py",
   "mimetype": "text/x-python",
   "name": "python",
   "nbconvert_exporter": "python",
   "pygments_lexer": "ipython3",
   "version": "3.5.2"
  },
  "varInspector": {
   "cols": {
    "lenName": 16,
    "lenType": 16,
    "lenVar": 40
   },
   "kernels_config": {
    "python": {
     "delete_cmd_postfix": "",
     "delete_cmd_prefix": "del ",
     "library": "var_list.py",
     "varRefreshCmd": "print(var_dic_list())"
    },
    "r": {
     "delete_cmd_postfix": ") ",
     "delete_cmd_prefix": "rm(",
     "library": "var_list.r",
     "varRefreshCmd": "cat(var_dic_list()) "
    }
   },
   "types_to_exclude": [
    "module",
    "function",
    "builtin_function_or_method",
    "instance",
    "_Feature"
   ],
   "window_display": false
  }
 },
 "nbformat": 4,
 "nbformat_minor": 2
}
