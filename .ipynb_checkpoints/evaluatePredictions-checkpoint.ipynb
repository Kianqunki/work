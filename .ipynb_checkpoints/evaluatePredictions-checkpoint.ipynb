{
 "cells": [
  {
   "cell_type": "code",
   "execution_count": 1,
   "metadata": {
    "collapsed": true
   },
   "outputs": [],
   "source": [
    "#from sklearn.metrics import mean_squared_error\n",
    "import math \n",
    "import scipy.stats as stats\n",
    "import numpy as np\n",
    "import SimAnomalyDataset as sim\n",
    "import matplotlib.pylab as plt\n",
    "\n",
    "def main(test, pred, metric = \"RMSE\"):\n",
    "    \"\"\"\n",
    "    Various metric for comparing output predictions and input values for \n",
    "    learning algorithms\n",
    "    \n",
    "    RSME, MAPE, MPE, MAD, NLL, MSE\n",
    "    \"\"\"\n",
    "    \n",
    "    N = len(pred)\n",
    "    \n",
    "    if metric == \"RMSE\":\n",
    "        out = []\n",
    "        for i in np.arange(N):\n",
    "            out.append(math.sqrt(((test[i] - pred[i])**2)/2))\n",
    "    \n",
    "    elif metric == \"MAPE\":\n",
    "        out = []\n",
    "        for i in np.arange(N):\n",
    "            out.append(((np.abs((test[i] - pred[i])/test[i]))/2)*100)\n",
    "        \n",
    "    elif metric == \"MPE\": \n",
    "        out = []\n",
    "        for i in np.arange(N):\n",
    "            out.append((((test[i] - pred[i])/pred[i])/2))\n",
    "        \n",
    "    elif metric == \"MAD\":\n",
    "        out = []\n",
    "        for i in np.arange(N):\n",
    "            out.append(np.abs(test[i] - pred[i])/2)\n",
    "    \n",
    "    elif metric == \"NLL\":\n",
    "        out = []\n",
    "        for i in np.arange(N):\n",
    "            out.append(-np.sum(stats.norm.logpdf(test[i], loc=pred[i]))/100)\n",
    "    \n",
    "    elif metric == \"MSE\":\n",
    "        out = []\n",
    "        for i in np.arange(N):\n",
    "            out.append(((test[i] - pred[i])**2)/2)\n",
    "    \n",
    "    else:\n",
    "        print(\"Key error\")\n",
    "    \n",
    "    return out\n",
    "\n",
    "\n",
    "def GaussianPredError(error_vector, anomaly_loc, anomaly_dur, thresh = 0.99999):\n",
    "    \"\"\"\n",
    "    Using the prediction vector (Input-Predictions) of a predictive model\n",
    "    we can model this and thus generate a anomaly score from the Gaussian\n",
    "    fitted to these error values.\n",
    "    \n",
    "    \"\"\"\n",
    "    data = error_vector\n",
    "\n",
    "    # Fit a normal distribution to the data:\n",
    "    mu, std = stats.norm.fit(data)\n",
    "\n",
    "    # Plot the histogram.\n",
    "    plt.hist(data, bins=50, normed=True, alpha=0.6, color='g')\n",
    "\n",
    "    # Plot the PDF.\n",
    "    xmin, xmax = plt.xlim()\n",
    "    x = np.arange(xmin, xmax, 1)\n",
    "    p = stats.norm.pdf(x, mu, std)\n",
    "    plt.plot(x, p, 'k', linewidth=2)\n",
    "    title = \"Fit results: mu = %.2f,  std = %.2f\" % (mu, std)\n",
    "    plt.title(title)\n",
    "    plt.show()\n",
    "\n",
    "    anomaly_score = np.zeros_like(data)\n",
    "    anomaly_score_2 = np.zeros_like(data)\n",
    "    for i in np.arange(len(data)): #loop through error scores\n",
    "        for e in np.arange(len(x)): #loop through gaussian indicies\n",
    "            if np.round(data[i]) == np.round(x[e]): # if error score equals gaussian index\n",
    "                anomaly_score[i] += p[e] # set anomaly score to gaussian value at this index\n",
    "                anomaly_score_2[i] += (p[e]-mu).T*(1/std)*(p[e]-mu)\n",
    "\n",
    "    # Shift to range between 0-1\n",
    "    anomaly_score = 1-anomaly_score/np.max(anomaly_score)\n",
    "\n",
    "    # Plot output\n",
    "    anomaly_score[anomaly_score<thresh]=0\n",
    "    sim.plot_data((anomaly_score), anomaly_loc, anomaly_dur,title=\"Extracted anomaly score\")\n",
    "    \n",
    "    return anomaly_score"
   ]
  }
 ],
 "metadata": {
  "kernelspec": {
   "display_name": "Python 3",
   "language": "python",
   "name": "python3"
  },
  "language_info": {
   "codemirror_mode": {
    "name": "ipython",
    "version": 3
   },
   "file_extension": ".py",
   "mimetype": "text/x-python",
   "name": "python",
   "nbconvert_exporter": "python",
   "pygments_lexer": "ipython3",
   "version": "3.5.2"
  },
  "varInspector": {
   "cols": {
    "lenName": 16,
    "lenType": 16,
    "lenVar": 40
   },
   "kernels_config": {
    "python": {
     "delete_cmd_postfix": "",
     "delete_cmd_prefix": "del ",
     "library": "var_list.py",
     "varRefreshCmd": "print(var_dic_list())"
    },
    "r": {
     "delete_cmd_postfix": ") ",
     "delete_cmd_prefix": "rm(",
     "library": "var_list.r",
     "varRefreshCmd": "cat(var_dic_list()) "
    }
   },
   "types_to_exclude": [
    "module",
    "function",
    "builtin_function_or_method",
    "instance",
    "_Feature"
   ],
   "window_display": false
  }
 },
 "nbformat": 4,
 "nbformat_minor": 2
}
