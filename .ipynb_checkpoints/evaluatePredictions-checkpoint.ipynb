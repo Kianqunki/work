{
 "cells": [
  {
   "cell_type": "code",
   "execution_count": null,
   "metadata": {
    "collapsed": true
   },
   "outputs": [],
   "source": [
    "#from sklearn.metrics import mean_squared_error\n",
    "import math \n",
    "import scipy.stats as stats\n",
    "import numpy as np\n",
    "\n",
    "def main(test, pred, metric = \"RMSE\"):\n",
    "    \"\"\"\n",
    "    Various metric for comparing output predictions and input values for \n",
    "    learning algorithms\n",
    "    \n",
    "    RSME, MAPE, MPE, MAD, NLL, error *squared error\n",
    "    \"\"\"\n",
    "    \n",
    "    N = len(pred)\n",
    "    \n",
    "    if metric == \"RMSE\":\n",
    "        out = []\n",
    "        for i in np.arange(N):\n",
    "            out.append(math.sqrt(((test[i] - pred[i])**2)/2))\n",
    "    \n",
    "    elif metric == \"MAPE\":\n",
    "        out = []\n",
    "        for i in np.arange(N):\n",
    "            out.append(((np.abs((test[i] - pred[i])/pred[i]))/2))\n",
    "    \n",
    "    elif metric == \"MPE\": \n",
    "        out = []\n",
    "        for i in np.arange(N):\n",
    "            out.append((((test[i] - pred[i])/pred[i])/2))\n",
    "        \n",
    "    elif metric == \"MAD\":\n",
    "        out = []\n",
    "        for i in np.arange(N):\n",
    "            out.append(np.abs(test[i] - pred[i])/2)\n",
    "    \n",
    "    elif metric == \"NLL\":\n",
    "        out = []\n",
    "        for i in np.arange(N):\n",
    "            out.append(-np.sum(stats.norm.logpdf(test[i], loc=pred[i]))/100)\n",
    "\n",
    "    elif metric == \"error\":\n",
    "        out = []\n",
    "        for i in np.arange(N):\n",
    "            out.append((pred[i] - x_test[i,0])**2)\n",
    "    \n",
    "    return out"
   ]
  }
 ],
 "metadata": {
  "kernelspec": {
   "display_name": "Python 3",
   "language": "python",
   "name": "python3"
  },
  "language_info": {
   "codemirror_mode": {
    "name": "ipython",
    "version": 3
   },
   "file_extension": ".py",
   "mimetype": "text/x-python",
   "name": "python",
   "nbconvert_exporter": "python",
   "pygments_lexer": "ipython3",
   "version": "3.5.2"
  },
  "varInspector": {
   "cols": {
    "lenName": 16,
    "lenType": 16,
    "lenVar": 40
   },
   "kernels_config": {
    "python": {
     "delete_cmd_postfix": "",
     "delete_cmd_prefix": "del ",
     "library": "var_list.py",
     "varRefreshCmd": "print(var_dic_list())"
    },
    "r": {
     "delete_cmd_postfix": ") ",
     "delete_cmd_prefix": "rm(",
     "library": "var_list.r",
     "varRefreshCmd": "cat(var_dic_list()) "
    }
   },
   "types_to_exclude": [
    "module",
    "function",
    "builtin_function_or_method",
    "instance",
    "_Feature"
   ],
   "window_display": false
  }
 },
 "nbformat": 4,
 "nbformat_minor": 2
}
