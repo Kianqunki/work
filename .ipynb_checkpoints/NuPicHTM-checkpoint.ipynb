{
 "cells": [
  {
   "cell_type": "code",
   "execution_count": 2,
   "metadata": {},
   "outputs": [
    {
     "ename": "ValueError",
     "evalue": "too many values to unpack",
     "output_type": "error",
     "traceback": [
      "\u001b[0;31m---------------------------------------------------------------------------\u001b[0m",
      "\u001b[0;31mValueError\u001b[0m                                Traceback (most recent call last)",
      "\u001b[0;32m<ipython-input-2-5a293be02869>\u001b[0m in \u001b[0;36m<module>\u001b[0;34m()\u001b[0m\n\u001b[1;32m     82\u001b[0m \u001b[0;34m\u001b[0m\u001b[0m\n\u001b[1;32m     83\u001b[0m \u001b[0;31m# get anomaly locations from simulation\u001b[0m\u001b[0;34m\u001b[0m\u001b[0;34m\u001b[0m\u001b[0m\n\u001b[0;32m---> 84\u001b[0;31m \u001b[0mdata\u001b[0m\u001b[0;34m,\u001b[0m \u001b[0manomaly_loc\u001b[0m\u001b[0;34m,\u001b[0m \u001b[0manomaly_dur\u001b[0m \u001b[0;34m=\u001b[0m \u001b[0mpie\u001b[0m\u001b[0;34m.\u001b[0m\u001b[0mget_data\u001b[0m\u001b[0;34m(\u001b[0m\u001b[0;34m)\u001b[0m\u001b[0;34m\u001b[0m\u001b[0m\n\u001b[0m\u001b[1;32m     85\u001b[0m \u001b[0;34m\u001b[0m\u001b[0m\n\u001b[1;32m     86\u001b[0m \u001b[0;31m# slight data transformation\u001b[0m\u001b[0;34m\u001b[0m\u001b[0;34m\u001b[0m\u001b[0m\n",
      "\u001b[0;31mValueError\u001b[0m: too many values to unpack"
     ]
    }
   ],
   "source": [
    "import matplotlib.pylab as plt\n",
    "import yaml\n",
    "import csv\n",
    "import datetime\n",
    "from nupic.algorithms import anomaly_likelihood\n",
    "from nupic.frameworks.opf.model_factory import ModelFactory\n",
    "import best_model_params as modelParams\n",
    "\n",
    "# Convery .py to .yml param file\n",
    "with open('modelParams.yml', 'w') as outfile:\n",
    "    yaml.dump(modelParams.MODEL_PARAMS, outfile, default_flow_style=False)\n",
    "    \n",
    "_PARAMS_PATH = \"/home/codepan1/RestRunnerCode/modelParams.yml\"\n",
    "    \n",
    "with open(_PARAMS_PATH, \"r\") as f:\n",
    "    modelParams = yaml.safe_load(f)\n",
    "    \n",
    "# Create OPF Model & Load parameters into model space\n",
    "model = ModelFactory.create(modelParams)\n",
    "\n",
    "# What to predict?\n",
    "model.enableInference({'predictedField': 'consumption'})\n",
    "\n",
    "# Open the file to loop over each row to feed model\n",
    "output = []\n",
    "anomaly_score = []\n",
    "prediction = []\n",
    "confidence = []\n",
    "anomaly_Likelihood = []\n",
    "anomaly_logLikelihood = []\n",
    "anomaly_likelihood_helper = anomaly_likelihood.AnomalyLikelihood()\n",
    "input_data = []\n",
    "with open (\"sim_data.csv\") as fileIn:\n",
    "    reader = csv.reader(fileIn)\n",
    "    # The first two rows are not data, but we'll need the field names when passing data into the model.\n",
    "    headers = reader.next()\n",
    "    reader.next()\n",
    "    reader.next()\n",
    "\n",
    "    # loop through data rows\n",
    "    for record in reader:\n",
    "        # Save input data for plotting\n",
    "        input_data.append(record)\n",
    "        \n",
    "        # Create a dictionary with field names as keys, row values as values.\n",
    "        modelInput = dict(zip(headers, record))\n",
    "        \n",
    "        # Convert string consumption to float value.\n",
    "        modelInput['consumption'] = float(modelInput['consumption'])\n",
    "        \n",
    "        # Convert timestamp string to Python datetime.\n",
    "        modelInput[\"timestamp\"] = datetime.datetime.strptime(\n",
    "          modelInput[\"timestamp\"], \"%Y-%m-%d %H:%M:%S\")\n",
    "        \n",
    "        # Push the data into the model and get back results.\n",
    "        result = model.run(modelInput)\n",
    "        \n",
    "        # Save predicition history in new file\n",
    "        output.append(result.inferences['multiStepBestPredictions'][1])\n",
    "        \n",
    "        anomaly_score_r = result.inferences[\"anomalyScore\"]\n",
    "        \n",
    "        prediction_r = result.inferences[\"multiStepBestPredictions\"][1]\n",
    "        \n",
    "        confidence.append(result.inferences[\"multiStepPredictions\"][1][prediction_r])\n",
    "        \n",
    "        anomaly_Likelihood_r = anomaly_likelihood_helper.anomalyProbability(\n",
    "                    modelInput['consumption'], anomaly_score_r, modelInput['timestamp'])\n",
    "        \n",
    "        anomaly_logLikelihood_r = anomaly_likelihood_helper.computeLogLikelihood(anomaly_Likelihood_r)\n",
    "        \n",
    "        #store for later\n",
    "        anomaly_score.append(anomaly_score_r)\n",
    "        prediction.append(prediction_r)\n",
    "        anomaly_Likelihood.append(anomaly_Likelihood_r)\n",
    "        anomaly_logLikelihood.append(anomaly_logLikelihood_r)\n"
   ]
  },
  {
   "cell_type": "code",
   "execution_count": 3,
   "metadata": {},
   "outputs": [
    {
     "ename": "NameError",
     "evalue": "name 'OUT' is not defined",
     "output_type": "error",
     "traceback": [
      "\u001b[0;31m---------------------------------------------------------------------------\u001b[0m",
      "\u001b[0;31mNameError\u001b[0m                                 Traceback (most recent call last)",
      "\u001b[0;32m<ipython-input-3-c7e0df31bd56>\u001b[0m in \u001b[0;36m<module>\u001b[0;34m()\u001b[0m\n\u001b[1;32m      1\u001b[0m \u001b[0;31m#RMSE plot\u001b[0m\u001b[0;34m\u001b[0m\u001b[0;34m\u001b[0m\u001b[0m\n\u001b[0;32m----> 2\u001b[0;31m \u001b[0mpie\u001b[0m\u001b[0;34m.\u001b[0m\u001b[0mplot_data\u001b[0m\u001b[0;34m(\u001b[0m\u001b[0mOUT\u001b[0m\u001b[0;34m,\u001b[0m \u001b[0manomaly_loc\u001b[0m\u001b[0;34m,\u001b[0m \u001b[0manomaly_dur\u001b[0m\u001b[0;34m)\u001b[0m\u001b[0;34m\u001b[0m\u001b[0m\n\u001b[0m\u001b[1;32m      3\u001b[0m \u001b[0;34m\u001b[0m\u001b[0m\n\u001b[1;32m      4\u001b[0m \u001b[0;31m#anomaly likelihoods\u001b[0m\u001b[0;34m\u001b[0m\u001b[0;34m\u001b[0m\u001b[0m\n\u001b[1;32m      5\u001b[0m \u001b[0mpie\u001b[0m\u001b[0;34m.\u001b[0m\u001b[0mplot_data\u001b[0m\u001b[0;34m(\u001b[0m\u001b[0manomaly_score\u001b[0m\u001b[0;34m[\u001b[0m\u001b[0;36m8000\u001b[0m\u001b[0;34m:\u001b[0m\u001b[0;34m]\u001b[0m\u001b[0;34m,\u001b[0m \u001b[0manomaly_loc\u001b[0m\u001b[0;34m,\u001b[0m \u001b[0manomaly_dur\u001b[0m\u001b[0;34m)\u001b[0m\u001b[0;34m\u001b[0m\u001b[0m\n",
      "\u001b[0;31mNameError\u001b[0m: name 'OUT' is not defined"
     ]
    }
   ],
   "source": [
    "import numpy as np\n",
    "import SimAnomalyDataset as pie\n",
    "from evaluatePredictions import main\n",
    "\n",
    "# get anomaly locations from simulation\n",
    "data, anomaly_loc, anomaly_dur, dates = pie.get_data()\n",
    "\n",
    "# slight data transformation\n",
    "a = np.asarray(input_data)\n",
    "a = a[:,2].astype(np.float)\n",
    "\n",
    "OUT = main(test=a[8000:], pred=prediction[8000:], metric = \"RMSE\")\n",
    "\n",
    "#RMSE plot\n",
    "pie.plot_data(OUT, anomaly_loc, anomaly_dur)\n",
    "\n",
    "#anomaly likelihoods\n",
    "pie.plot_data(anomaly_score[8000:], anomaly_loc, anomaly_dur)"
   ]
  }
 ],
 "metadata": {
  "kernelspec": {
   "display_name": "Python 2",
   "language": "python",
   "name": "python2"
  },
  "language_info": {
   "codemirror_mode": {
    "name": "ipython",
    "version": 2
   },
   "file_extension": ".py",
   "mimetype": "text/x-python",
   "name": "python",
   "nbconvert_exporter": "python",
   "pygments_lexer": "ipython2",
   "version": "2.7.12"
  },
  "varInspector": {
   "cols": {
    "lenName": 16,
    "lenType": 16,
    "lenVar": 40
   },
   "kernels_config": {
    "python": {
     "delete_cmd_postfix": "",
     "delete_cmd_prefix": "del ",
     "library": "var_list.py",
     "varRefreshCmd": "print(var_dic_list())"
    },
    "r": {
     "delete_cmd_postfix": ") ",
     "delete_cmd_prefix": "rm(",
     "library": "var_list.r",
     "varRefreshCmd": "cat(var_dic_list()) "
    }
   },
   "position": {
    "height": "635px",
    "left": "1437.99px",
    "right": "20px",
    "top": "152.988px",
    "width": "350px"
   },
   "types_to_exclude": [
    "module",
    "function",
    "builtin_function_or_method",
    "instance",
    "_Feature"
   ],
   "window_display": true
  }
 },
 "nbformat": 4,
 "nbformat_minor": 2
}
