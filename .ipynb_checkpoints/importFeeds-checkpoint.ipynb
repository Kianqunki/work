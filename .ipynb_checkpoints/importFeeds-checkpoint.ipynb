{
 "cells": [
  {
   "cell_type": "code",
   "execution_count": 6,
   "metadata": {},
   "outputs": [],
   "source": [
    "import logging\n",
    "from time import sleep\n",
    "import stomp\n",
    "\n",
    "NETWORK_RAIL_AUTH = ('will@code-pan.com', 'Vines9(')\n",
    "\n",
    "class Listener(object):\n",
    "\n",
    "    def __init__(self, mq):\n",
    "        self._mq = mq\n",
    "\n",
    "    def on_message(self, headers, message):\n",
    "        print(headers)\n",
    "        print(message)\n",
    "        self._mq.ack(id=headers['message-id'], subscription=headers['subscription'])\n",
    "\n",
    "mq = stomp.Connection12(host_and_ports=[('datafeeds.networkrail.co.uk', 61618)],\n",
    "                      keepalive=True,\n",
    "                      vhost='datafeeds.networkrail.co.uk',\n",
    "                      heartbeats=(5000, 10000))\n",
    "\n",
    "mq.set_listener('', Listener(mq))\n",
    "\n",
    "mq.start()\n",
    "\n",
    "mq.connect(username=NETWORK_RAIL_AUTH[0],\n",
    "           passcode=NETWORK_RAIL_AUTH[1],\n",
    "           wait=True)\n",
    "\n",
    "mq.subscribe('/topic/TRAIN_MVT_FREIGHT', 'test-vstp', ack='client-individual')\n"
   ]
  },
  {
   "cell_type": "code",
   "execution_count": 9,
   "metadata": {},
   "outputs": [
    {
     "ename": "AttributeError",
     "evalue": "'NoneType' object has no attribute 'keys'",
     "output_type": "error",
     "traceback": [
      "\u001b[0;31m---------------------------------------------------------------------------\u001b[0m",
      "\u001b[0;31mAttributeError\u001b[0m                            Traceback (most recent call last)",
      "\u001b[0;32m<ipython-input-9-b2e7cc4ee657>\u001b[0m in \u001b[0;36m<module>\u001b[0;34m()\u001b[0m\n\u001b[1;32m      2\u001b[0m \u001b[0;31m# while mq.is_connected():\u001b[0m\u001b[0;34m\u001b[0m\u001b[0;34m\u001b[0m\u001b[0m\n\u001b[1;32m      3\u001b[0m \u001b[0;31m#      sleep(1)\u001b[0m\u001b[0;34m\u001b[0m\u001b[0;34m\u001b[0m\u001b[0m\n\u001b[0;32m----> 4\u001b[0;31m \u001b[0ma\u001b[0m\u001b[0;34m.\u001b[0m\u001b[0mkeys\u001b[0m\u001b[0;34m\u001b[0m\u001b[0m\n\u001b[0m",
      "\u001b[0;31mAttributeError\u001b[0m: 'NoneType' object has no attribute 'keys'"
     ]
    }
   ],
   "source": [
    "\n",
    "# while mq.is_connected():\n",
    "#      sleep(1)\n"
   ]
  }
 ],
 "metadata": {
  "kernelspec": {
   "display_name": "Python 3",
   "language": "python",
   "name": "python3"
  },
  "language_info": {
   "codemirror_mode": {
    "name": "ipython",
    "version": 3
   },
   "file_extension": ".py",
   "mimetype": "text/x-python",
   "name": "python",
   "nbconvert_exporter": "python",
   "pygments_lexer": "ipython3",
   "version": "3.5.2"
  },
  "varInspector": {
   "cols": {
    "lenName": 16,
    "lenType": 16,
    "lenVar": 40
   },
   "kernels_config": {
    "python": {
     "delete_cmd_postfix": "",
     "delete_cmd_prefix": "del ",
     "library": "var_list.py",
     "varRefreshCmd": "print(var_dic_list())"
    },
    "r": {
     "delete_cmd_postfix": ") ",
     "delete_cmd_prefix": "rm(",
     "library": "var_list.r",
     "varRefreshCmd": "cat(var_dic_list()) "
    }
   },
   "types_to_exclude": [
    "module",
    "function",
    "builtin_function_or_method",
    "instance",
    "_Feature"
   ],
   "window_display": false
  }
 },
 "nbformat": 4,
 "nbformat_minor": 2
}
