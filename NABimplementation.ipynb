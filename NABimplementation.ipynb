{
 "cells": [
  {
   "cell_type": "code",
   "execution_count": 5,
   "metadata": {},
   "outputs": [
    {
     "data": {
      "image/png": "[encoded data removed]",
      "text/plain": [
       "<matplotlib.figure.Figure at 0x7fbb2158f748>"
      ]
     },
     "metadata": {},
     "output_type": "display_data"
    },
    {
     "data": {
      "text/plain": [
       "42.857138487111044"
      ]
     },
     "execution_count": 5,
     "metadata": {},
     "output_type": "execute_result"
    }
   ],
   "source": [
    "import numpy as np\n",
    "from pandas import read_csv\n",
    "import matplotlib.pyplot as plt\n",
    "\n",
    "def sigmoid(y, Atp= 1, Afp= -1): # \n",
    "    \"\"\"\n",
    "    Sigmoid score function gives a weight to detection based on their location in the anomaly window\n",
    "    \n",
    "    Parameters\n",
    "    ----------\n",
    "    y : relative position of detection within anomaly window\n",
    "    Atp : weight of true positive\n",
    "    Afp : weight of false positive\n",
    "    \"\"\"\n",
    "    return((Atp-Afp)*(1/(1+np.exp(5*y)))-1)\n",
    "\n",
    "def main(labels, anomaly_score, Afn = -1):\n",
    "    \"\"\"\n",
    "    Generate single metric based on the ability of a detector to extract anomalies from the input data\n",
    "    \n",
    "    Variables\n",
    "    ---------\n",
    "    labels : hand labelled or simulated anomaly input locations\n",
    "    anomaly_score : output of detectors binary scale (1 being 100% likely anomaly)\n",
    "    Afn : weight of false negative\n",
    "    \n",
    "    Output\n",
    "    ---------\n",
    "    Snorm : normalized representation of the accuracy of a detector\n",
    "    \"\"\"\n",
    "    # calculate number of anomalies and window sizes\n",
    "    N_anomalies = np.sum(labels)\n",
    "    windowSize = (len(anomaly_score)*0.1)/N_anomalies # 10% of data is window size\n",
    "    windowSize2 = np.int(np.round(windowSize/2))\n",
    "\n",
    "    # initialise various variables\n",
    "    weights = np.zeros(N_anomalies)\n",
    "    count = 0 \n",
    "    fd = 0 # false detections\n",
    "    raw_score = 0\n",
    "\n",
    "    # plot output\n",
    "    fig, ax = plt.subplots()\n",
    "    ax.plot(labels[8000:],label = \"Labelled anomalies\")\n",
    "    ax.plot(anomaly_score[8000:],label = \"Detector anomaly scores\")\n",
    "    \n",
    "    # find indicies of anomaly labels\n",
    "    for idx_label, label in np.ndenumerate(labels):                  # loop through labels\n",
    "        if label == 1: # labelled anomalies i.e. window centre points)\n",
    "\n",
    "            # Include multiple labels into single window\n",
    "            for window_idx in np.arange(windowSize2)+1:              # search within this window for other labels\n",
    "                if labels[idx_label[0]+window_idx] == 1:             # if find other labelled anomalies within window\n",
    "                    y_zero = idx_label[0] + window_idx + windowSize2 # end point of window extended to include label\n",
    "                else:\n",
    "                    y_zero = idx_label[0] + windowSize2              # end point of window is normal\n",
    "\n",
    "            # Define window\n",
    "            window = np.arange(idx_label[0]-windowSize2, y_zero,1) \n",
    "\n",
    "            # Calculate false negatives and detection weights\n",
    "            if np.sum(anomaly_score[window]) == 0: # if window is empty\n",
    "                ax.axvspan(window[0]-8000, window[-1]-8000, alpha=0.2, color='red')\n",
    "                fd += 1 # create false negative\n",
    "            else:                                  # if window not empty\n",
    "                ax.axvspan(window[0]-8000, window[-1]-8000, alpha=0.2, color='green')\n",
    "                # find index of first detection within window\n",
    "                for idx_val, val in np.ndenumerate(anomaly_score[window]):\n",
    "                    if val == 1:\n",
    "                        # calculate sigmoid weight based on relative position within window\n",
    "                        y = idx_val[0] - window.size # position relative to end of window\n",
    "                        weights[count] = sigmoid(y)\n",
    "                        break\n",
    "\n",
    "            count += 1 # for each anomaly\n",
    "\n",
    "    raw_score = np.sum(weights) + Afn*fd\n",
    "\n",
    "    # Normalization\n",
    "    Sperfect = N_anomalies\n",
    "    Snull = -N_anomalies\n",
    "    Snorm = 100*((raw_score-Snull)/(Sperfect-Snull))\n",
    "\n",
    "    plt.ylim([0,1])\n",
    "    plt.xlim([0,2000])\n",
    "    plt.title(\"Anomaly detection windows with NAB score = %s\" % np.round(Snorm,2))\n",
    "    plt.legend(bbox_to_anchor=(1.05, 1), loc=2, borderaxespad=0.)\n",
    "    plt.show()\n",
    "    \n",
    "    return Snorm\n",
    "\n",
    "\n",
    "\n",
    "# example\n",
    "series = read_csv(\"/home/codepan1/RestRunnerCode/alpha_Twitter_volume_AAPL.csv\")\n",
    "labels = series[\"label\"].values\n",
    "anomaly_score = series[\"anomaly_score\"].values\n",
    "main(labels, anomaly_score)"
   ]
  },
  {
   "cell_type": "code",
   "execution_count": null,
   "metadata": {},
   "outputs": [],
   "source": [
    "# # Visualise sigmoid function\n",
    "\n",
    "# # Sigmoid score function\n",
    "# def sigmoid(y, Atp= 1, Afp= -1):\n",
    "#     return((Atp-Afp)*(1/(1+np.exp(0.5*y)))-1)\n",
    "\n",
    "\n",
    "# x = np.arange(-141,100,1)\n",
    "# y = sigmoid(x)\n",
    "\n",
    "# fig, ax = plt.subplots()\n",
    "# ax.plot(x,y)\n",
    "# ax.axvspan(-141, 0, alpha=0.2, color='red')\n",
    "# plt.ylabel(\"Scaled sigmoid value\")\n",
    "# plt.xlabel(\"Relative position\")\n",
    "# plt.show()"
   ]
  }
 ],
 "metadata": {
  "kernelspec": {
   "display_name": "Python 3",
   "language": "python",
   "name": "python3"
  },
  "language_info": {
   "codemirror_mode": {
    "name": "ipython",
    "version": 3
   },
   "file_extension": ".py",
   "mimetype": "text/x-python",
   "name": "python",
   "nbconvert_exporter": "python",
   "pygments_lexer": "ipython3",
   "version": "3.5.2"
  },
  "varInspector": {
   "cols": {
    "lenName": 16,
    "lenType": 16,
    "lenVar": 40
   },
   "kernels_config": {
    "python": {
     "delete_cmd_postfix": "",
     "delete_cmd_prefix": "del ",
     "library": "var_list.py",
     "varRefreshCmd": "print(var_dic_list())"
    },
    "r": {
     "delete_cmd_postfix": ") ",
     "delete_cmd_prefix": "rm(",
     "library": "var_list.r",
     "varRefreshCmd": "cat(var_dic_list()) "
    }
   },
   "position": {
    "height": "504px",
    "left": "1524.99px",
    "right": "20px",
    "top": "159.998px",
    "width": "233px"
   },
   "types_to_exclude": [
    "module",
    "function",
    "builtin_function_or_method",
    "instance",
    "_Feature"
   ],
   "window_display": true
  }
 },
 "nbformat": 4,
 "nbformat_minor": 2
}
