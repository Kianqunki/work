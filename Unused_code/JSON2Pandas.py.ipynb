{
 "cells": [
  {
   "cell_type": "markdown",
   "metadata": {},
   "source": [
    "Querying Elasticsearch\n",
    "for Index Overview:\n",
    "curl '192.168.188.38:9200/_cat/indices?v'\n",
    "for getting the first 10 entries in the wixed-production index\n",
    "curl '192.168.188.38:9200/wixed-production_8707cb7b-738e-4507-9899-8bac0f49c8fc/_search/?pretty=true'"
   ]
  },
  {
   "cell_type": "code",
   "execution_count": 131,
   "metadata": {},
   "outputs": [
    {
     "data": {
      "text/plain": [
       "pandas.core.frame.DataFrame"
      ]
     },
     "execution_count": 131,
     "metadata": {},
     "output_type": "execute_result"
    }
   ],
   "source": [
    "import pandas as pd\n",
    "\n",
    "# Import JSON from URL as dataframe\n",
    "url='http://192.168.188.38:9200/wixed-production_8707cb7b-738e-4507-9899-8bac0f49c8fc'\n",
    "c=pd.read_json(url)\n",
    "\n",
    "type(c)"
   ]
  },
  {
   "cell_type": "code",
   "execution_count": 153,
   "metadata": {},
   "outputs": [
    {
     "data": {
      "text/plain": [
       "{'@timestamp': {'type': 'date'},\n",
       " '@version': {'fields': {'keyword': {'ignore_above': 256, 'type': 'keyword'}},\n",
       "  'type': 'text'},\n",
       " 'agent': {'fields': {'keyword': {'ignore_above': 256, 'type': 'keyword'}},\n",
       "  'type': 'text'},\n",
       " 'auth': {'fields': {'keyword': {'ignore_above': 256, 'type': 'keyword'}},\n",
       "  'type': 'text'},\n",
       " 'beat': {'properties': {'hostname': {'fields': {'keyword': {'ignore_above': 256,\n",
       "      'type': 'keyword'}},\n",
       "    'type': 'text'},\n",
       "   'name': {'fields': {'keyword': {'ignore_above': 256, 'type': 'keyword'}},\n",
       "    'type': 'text'},\n",
       "   'version': {'fields': {'keyword': {'ignore_above': 256, 'type': 'keyword'}},\n",
       "    'type': 'text'}}},\n",
       " 'bytes': {'fields': {'keyword': {'ignore_above': 256, 'type': 'keyword'}},\n",
       "  'type': 'text'},\n",
       " 'clientip': {'fields': {'keyword': {'ignore_above': 256, 'type': 'keyword'}},\n",
       "  'type': 'text'},\n",
       " 'error_log': {'type': 'boolean'},\n",
       " 'fields': {'properties': {'project': {'fields': {'keyword': {'ignore_above': 256,\n",
       "      'type': 'keyword'}},\n",
       "    'type': 'text'}}},\n",
       " 'geoip': {'properties': {'city_name': {'fields': {'keyword': {'ignore_above': 256,\n",
       "      'type': 'keyword'}},\n",
       "    'type': 'text'},\n",
       "   'continent_code': {'fields': {'keyword': {'ignore_above': 256,\n",
       "      'type': 'keyword'}},\n",
       "    'type': 'text'},\n",
       "   'country_code2': {'fields': {'keyword': {'ignore_above': 256,\n",
       "      'type': 'keyword'}},\n",
       "    'type': 'text'},\n",
       "   'country_code3': {'fields': {'keyword': {'ignore_above': 256,\n",
       "      'type': 'keyword'}},\n",
       "    'type': 'text'},\n",
       "   'country_name': {'fields': {'keyword': {'ignore_above': 256,\n",
       "      'type': 'keyword'}},\n",
       "    'type': 'text'},\n",
       "   'dma_code': {'type': 'long'},\n",
       "   'ip': {'fields': {'keyword': {'ignore_above': 256, 'type': 'keyword'}},\n",
       "    'type': 'text'},\n",
       "   'latitude': {'type': 'float'},\n",
       "   'location': {'type': 'float'},\n",
       "   'longitude': {'type': 'float'},\n",
       "   'postal_code': {'fields': {'keyword': {'ignore_above': 256,\n",
       "      'type': 'keyword'}},\n",
       "    'type': 'text'},\n",
       "   'region_code': {'fields': {'keyword': {'ignore_above': 256,\n",
       "      'type': 'keyword'}},\n",
       "    'type': 'text'},\n",
       "   'region_name': {'fields': {'keyword': {'ignore_above': 256,\n",
       "      'type': 'keyword'}},\n",
       "    'type': 'text'},\n",
       "   'timezone': {'fields': {'keyword': {'ignore_above': 256,\n",
       "      'type': 'keyword'}},\n",
       "    'type': 'text'}}},\n",
       " 'host': {'fields': {'keyword': {'ignore_above': 256, 'type': 'keyword'}},\n",
       "  'type': 'text'},\n",
       " 'httpversion': {'fields': {'keyword': {'ignore_above': 256,\n",
       "    'type': 'keyword'}},\n",
       "  'type': 'text'},\n",
       " 'ident': {'fields': {'keyword': {'ignore_above': 256, 'type': 'keyword'}},\n",
       "  'type': 'text'},\n",
       " 'input_type': {'fields': {'keyword': {'ignore_above': 256,\n",
       "    'type': 'keyword'}},\n",
       "  'type': 'text'},\n",
       " 'message': {'fields': {'keyword': {'ignore_above': 256, 'type': 'keyword'}},\n",
       "  'type': 'text'},\n",
       " 'offset': {'type': 'long'},\n",
       " 'referrer': {'fields': {'keyword': {'ignore_above': 256, 'type': 'keyword'}},\n",
       "  'type': 'text'},\n",
       " 'request': {'fields': {'keyword': {'ignore_above': 256, 'type': 'keyword'}},\n",
       "  'type': 'text'},\n",
       " 'response': {'fields': {'keyword': {'ignore_above': 256, 'type': 'keyword'}},\n",
       "  'type': 'text'},\n",
       " 'source': {'fields': {'keyword': {'ignore_above': 256, 'type': 'keyword'}},\n",
       "  'type': 'text'},\n",
       " 'tags': {'fields': {'keyword': {'ignore_above': 256, 'type': 'keyword'}},\n",
       "  'type': 'text'},\n",
       " 'timestamp': {'fields': {'keyword': {'ignore_above': 256, 'type': 'keyword'}},\n",
       "  'type': 'text'},\n",
       " 'type': {'fields': {'keyword': {'ignore_above': 256, 'type': 'keyword'}},\n",
       "  'type': 'text'},\n",
       " 'verb': {'fields': {'keyword': {'ignore_above': 256, 'type': 'keyword'}},\n",
       "  'type': 'text'}}"
      ]
     },
     "execution_count": 153,
     "metadata": {},
     "output_type": "execute_result"
    }
   ],
   "source": [
    "# Extract mappings-log-properties node\n",
    "node=c['wixed-production_8707cb7b-738e-4507-9899-8bac0f49c8fc']['mappings']['log']['properties']\n",
    "node"
   ]
  },
  {
   "cell_type": "code",
   "execution_count": 138,
   "metadata": {},
   "outputs": [
    {
     "data": {
      "text/plain": [
       "pandas.core.frame.DataFrame"
      ]
     },
     "execution_count": 138,
     "metadata": {},
     "output_type": "execute_result"
    }
   ],
   "source": [
    "type(c)"
   ]
  },
  {
   "cell_type": "code",
   "execution_count": 136,
   "metadata": {},
   "outputs": [
    {
     "data": {
      "text/plain": [
       "pandas.core.series.Series"
      ]
     },
     "execution_count": 136,
     "metadata": {},
     "output_type": "execute_result"
    }
   ],
   "source": [
    "type(c['wixed-production_8707cb7b-738e-4507-9899-8bac0f49c8fc'])"
   ]
  },
  {
   "cell_type": "code",
   "execution_count": 137,
   "metadata": {},
   "outputs": [
    {
     "data": {
      "text/plain": [
       "dict"
      ]
     },
     "execution_count": 137,
     "metadata": {},
     "output_type": "execute_result"
    }
   ],
   "source": [
    "type(c['wixed-production_8707cb7b-738e-4507-9899-8bac0f49c8fc']['mappings']['log']['properties'])"
   ]
  },
  {
   "cell_type": "code",
   "execution_count": 178,
   "metadata": {},
   "outputs": [
    {
     "data": {
      "text/plain": [
       "{'ignore_above': 256, 'type': 'keyword'}"
      ]
     },
     "execution_count": 178,
     "metadata": {},
     "output_type": "execute_result"
    }
   ],
   "source": [
    "node['agent']['fields']['keyword']"
   ]
  },
  {
   "cell_type": "code",
   "execution_count": 184,
   "metadata": {},
   "outputs": [
    {
     "data": {
      "text/plain": [
       "{'ignore_above': 256, 'type': 'keyword'}"
      ]
     },
     "execution_count": 184,
     "metadata": {},
     "output_type": "execute_result"
    }
   ],
   "source": [
    "node['beat']['properties']['hostname']['fields']['keyword']"
   ]
  },
  {
   "cell_type": "code",
   "execution_count": 156,
   "metadata": {},
   "outputs": [
    {
     "data": {
      "text/html": [
       "<div>\n",
       "<style>\n",
       "    .dataframe thead tr:only-child th {\n",
       "        text-align: right;\n",
       "    }\n",
       "\n",
       "    .dataframe thead th {\n",
       "        text-align: left;\n",
       "    }\n",
       "\n",
       "    .dataframe tbody tr th {\n",
       "        vertical-align: top;\n",
       "    }\n",
       "</style>\n",
       "<table border=\"1\" class=\"dataframe\">\n",
       "  <thead>\n",
       "    <tr style=\"text-align: right;\">\n",
       "      <th></th>\n",
       "      <th>fields</th>\n",
       "      <th>type</th>\n",
       "      <th>properties</th>\n",
       "    </tr>\n",
       "  </thead>\n",
       "  <tbody>\n",
       "    <tr>\n",
       "      <th>@timestamp</th>\n",
       "      <td>NaN</td>\n",
       "      <td>date</td>\n",
       "      <td>NaN</td>\n",
       "    </tr>\n",
       "    <tr>\n",
       "      <th>@version</th>\n",
       "      <td>{'keyword': {'type': 'keyword', 'ignore_above'...</td>\n",
       "      <td>text</td>\n",
       "      <td>NaN</td>\n",
       "    </tr>\n",
       "    <tr>\n",
       "      <th>agent</th>\n",
       "      <td>{'keyword': {'type': 'keyword', 'ignore_above'...</td>\n",
       "      <td>text</td>\n",
       "      <td>NaN</td>\n",
       "    </tr>\n",
       "    <tr>\n",
       "      <th>auth</th>\n",
       "      <td>{'keyword': {'type': 'keyword', 'ignore_above'...</td>\n",
       "      <td>text</td>\n",
       "      <td>NaN</td>\n",
       "    </tr>\n",
       "    <tr>\n",
       "      <th>beat</th>\n",
       "      <td>NaN</td>\n",
       "      <td>NaN</td>\n",
       "      <td>{'hostname': {'fields': {'keyword': {'type': '...</td>\n",
       "    </tr>\n",
       "    <tr>\n",
       "      <th>bytes</th>\n",
       "      <td>{'keyword': {'type': 'keyword', 'ignore_above'...</td>\n",
       "      <td>text</td>\n",
       "      <td>NaN</td>\n",
       "    </tr>\n",
       "    <tr>\n",
       "      <th>clientip</th>\n",
       "      <td>{'keyword': {'type': 'keyword', 'ignore_above'...</td>\n",
       "      <td>text</td>\n",
       "      <td>NaN</td>\n",
       "    </tr>\n",
       "    <tr>\n",
       "      <th>error_log</th>\n",
       "      <td>NaN</td>\n",
       "      <td>boolean</td>\n",
       "      <td>NaN</td>\n",
       "    </tr>\n",
       "    <tr>\n",
       "      <th>fields</th>\n",
       "      <td>NaN</td>\n",
       "      <td>NaN</td>\n",
       "      <td>{'project': {'fields': {'keyword': {'type': 'k...</td>\n",
       "    </tr>\n",
       "    <tr>\n",
       "      <th>geoip</th>\n",
       "      <td>NaN</td>\n",
       "      <td>NaN</td>\n",
       "      <td>{'location': {'type': 'float'}, 'country_code3...</td>\n",
       "    </tr>\n",
       "    <tr>\n",
       "      <th>host</th>\n",
       "      <td>{'keyword': {'type': 'keyword', 'ignore_above'...</td>\n",
       "      <td>text</td>\n",
       "      <td>NaN</td>\n",
       "    </tr>\n",
       "    <tr>\n",
       "      <th>httpversion</th>\n",
       "      <td>{'keyword': {'type': 'keyword', 'ignore_above'...</td>\n",
       "      <td>text</td>\n",
       "      <td>NaN</td>\n",
       "    </tr>\n",
       "    <tr>\n",
       "      <th>ident</th>\n",
       "      <td>{'keyword': {'type': 'keyword', 'ignore_above'...</td>\n",
       "      <td>text</td>\n",
       "      <td>NaN</td>\n",
       "    </tr>\n",
       "    <tr>\n",
       "      <th>input_type</th>\n",
       "      <td>{'keyword': {'type': 'keyword', 'ignore_above'...</td>\n",
       "      <td>text</td>\n",
       "      <td>NaN</td>\n",
       "    </tr>\n",
       "    <tr>\n",
       "      <th>message</th>\n",
       "      <td>{'keyword': {'type': 'keyword', 'ignore_above'...</td>\n",
       "      <td>text</td>\n",
       "      <td>NaN</td>\n",
       "    </tr>\n",
       "    <tr>\n",
       "      <th>offset</th>\n",
       "      <td>NaN</td>\n",
       "      <td>long</td>\n",
       "      <td>NaN</td>\n",
       "    </tr>\n",
       "    <tr>\n",
       "      <th>referrer</th>\n",
       "      <td>{'keyword': {'type': 'keyword', 'ignore_above'...</td>\n",
       "      <td>text</td>\n",
       "      <td>NaN</td>\n",
       "    </tr>\n",
       "    <tr>\n",
       "      <th>request</th>\n",
       "      <td>{'keyword': {'type': 'keyword', 'ignore_above'...</td>\n",
       "      <td>text</td>\n",
       "      <td>NaN</td>\n",
       "    </tr>\n",
       "    <tr>\n",
       "      <th>response</th>\n",
       "      <td>{'keyword': {'type': 'keyword', 'ignore_above'...</td>\n",
       "      <td>text</td>\n",
       "      <td>NaN</td>\n",
       "    </tr>\n",
       "    <tr>\n",
       "      <th>source</th>\n",
       "      <td>{'keyword': {'type': 'keyword', 'ignore_above'...</td>\n",
       "      <td>text</td>\n",
       "      <td>NaN</td>\n",
       "    </tr>\n",
       "    <tr>\n",
       "      <th>tags</th>\n",
       "      <td>{'keyword': {'type': 'keyword', 'ignore_above'...</td>\n",
       "      <td>text</td>\n",
       "      <td>NaN</td>\n",
       "    </tr>\n",
       "    <tr>\n",
       "      <th>timestamp</th>\n",
       "      <td>{'keyword': {'type': 'keyword', 'ignore_above'...</td>\n",
       "      <td>text</td>\n",
       "      <td>NaN</td>\n",
       "    </tr>\n",
       "    <tr>\n",
       "      <th>type</th>\n",
       "      <td>{'keyword': {'type': 'keyword', 'ignore_above'...</td>\n",
       "      <td>text</td>\n",
       "      <td>NaN</td>\n",
       "    </tr>\n",
       "    <tr>\n",
       "      <th>verb</th>\n",
       "      <td>{'keyword': {'type': 'keyword', 'ignore_above'...</td>\n",
       "      <td>text</td>\n",
       "      <td>NaN</td>\n",
       "    </tr>\n",
       "  </tbody>\n",
       "</table>\n",
       "</div>"
      ],
      "text/plain": [
       "                                                        fields     type  \\\n",
       "@timestamp                                                 NaN     date   \n",
       "@version     {'keyword': {'type': 'keyword', 'ignore_above'...     text   \n",
       "agent        {'keyword': {'type': 'keyword', 'ignore_above'...     text   \n",
       "auth         {'keyword': {'type': 'keyword', 'ignore_above'...     text   \n",
       "beat                                                       NaN      NaN   \n",
       "bytes        {'keyword': {'type': 'keyword', 'ignore_above'...     text   \n",
       "clientip     {'keyword': {'type': 'keyword', 'ignore_above'...     text   \n",
       "error_log                                                  NaN  boolean   \n",
       "fields                                                     NaN      NaN   \n",
       "geoip                                                      NaN      NaN   \n",
       "host         {'keyword': {'type': 'keyword', 'ignore_above'...     text   \n",
       "httpversion  {'keyword': {'type': 'keyword', 'ignore_above'...     text   \n",
       "ident        {'keyword': {'type': 'keyword', 'ignore_above'...     text   \n",
       "input_type   {'keyword': {'type': 'keyword', 'ignore_above'...     text   \n",
       "message      {'keyword': {'type': 'keyword', 'ignore_above'...     text   \n",
       "offset                                                     NaN     long   \n",
       "referrer     {'keyword': {'type': 'keyword', 'ignore_above'...     text   \n",
       "request      {'keyword': {'type': 'keyword', 'ignore_above'...     text   \n",
       "response     {'keyword': {'type': 'keyword', 'ignore_above'...     text   \n",
       "source       {'keyword': {'type': 'keyword', 'ignore_above'...     text   \n",
       "tags         {'keyword': {'type': 'keyword', 'ignore_above'...     text   \n",
       "timestamp    {'keyword': {'type': 'keyword', 'ignore_above'...     text   \n",
       "type         {'keyword': {'type': 'keyword', 'ignore_above'...     text   \n",
       "verb         {'keyword': {'type': 'keyword', 'ignore_above'...     text   \n",
       "\n",
       "                                                    properties  \n",
       "@timestamp                                                 NaN  \n",
       "@version                                                   NaN  \n",
       "agent                                                      NaN  \n",
       "auth                                                       NaN  \n",
       "beat         {'hostname': {'fields': {'keyword': {'type': '...  \n",
       "bytes                                                      NaN  \n",
       "clientip                                                   NaN  \n",
       "error_log                                                  NaN  \n",
       "fields       {'project': {'fields': {'keyword': {'type': 'k...  \n",
       "geoip        {'location': {'type': 'float'}, 'country_code3...  \n",
       "host                                                       NaN  \n",
       "httpversion                                                NaN  \n",
       "ident                                                      NaN  \n",
       "input_type                                                 NaN  \n",
       "message                                                    NaN  \n",
       "offset                                                     NaN  \n",
       "referrer                                                   NaN  \n",
       "request                                                    NaN  \n",
       "response                                                   NaN  \n",
       "source                                                     NaN  \n",
       "tags                                                       NaN  \n",
       "timestamp                                                  NaN  \n",
       "type                                                       NaN  \n",
       "verb                                                       NaN  "
      ]
     },
     "execution_count": 156,
     "metadata": {},
     "output_type": "execute_result"
    }
   ],
   "source": [
    "nodedf=pd.DataFrame.from_dict(node, orient='index')\n",
    "nodedf"
   ]
  },
  {
   "cell_type": "code",
   "execution_count": 190,
   "metadata": {},
   "outputs": [
    {
     "data": {
      "text/plain": [
       "{'city_name': {'fields': {'keyword': {'ignore_above': 256, 'type': 'keyword'}},\n",
       "  'type': 'text'},\n",
       " 'continent_code': {'fields': {'keyword': {'ignore_above': 256,\n",
       "    'type': 'keyword'}},\n",
       "  'type': 'text'},\n",
       " 'country_code2': {'fields': {'keyword': {'ignore_above': 256,\n",
       "    'type': 'keyword'}},\n",
       "  'type': 'text'},\n",
       " 'country_code3': {'fields': {'keyword': {'ignore_above': 256,\n",
       "    'type': 'keyword'}},\n",
       "  'type': 'text'},\n",
       " 'country_name': {'fields': {'keyword': {'ignore_above': 256,\n",
       "    'type': 'keyword'}},\n",
       "  'type': 'text'},\n",
       " 'dma_code': {'type': 'long'},\n",
       " 'ip': {'fields': {'keyword': {'ignore_above': 256, 'type': 'keyword'}},\n",
       "  'type': 'text'},\n",
       " 'latitude': {'type': 'float'},\n",
       " 'location': {'type': 'float'},\n",
       " 'longitude': {'type': 'float'},\n",
       " 'postal_code': {'fields': {'keyword': {'ignore_above': 256,\n",
       "    'type': 'keyword'}},\n",
       "  'type': 'text'},\n",
       " 'region_code': {'fields': {'keyword': {'ignore_above': 256,\n",
       "    'type': 'keyword'}},\n",
       "  'type': 'text'},\n",
       " 'region_name': {'fields': {'keyword': {'ignore_above': 256,\n",
       "    'type': 'keyword'}},\n",
       "  'type': 'text'},\n",
       " 'timezone': {'fields': {'keyword': {'ignore_above': 256, 'type': 'keyword'}},\n",
       "  'type': 'text'}}"
      ]
     },
     "execution_count": 190,
     "metadata": {},
     "output_type": "execute_result"
    }
   ],
   "source": [
    "nodedf['properties']['geoip']"
   ]
  },
  {
   "cell_type": "code",
   "execution_count": 166,
   "metadata": {},
   "outputs": [
    {
     "data": {
      "text/plain": [
       "@timestamp                                                   NaN\n",
       "@version       {'keyword': {'type': 'keyword', 'ignore_above'...\n",
       "agent          {'keyword': {'type': 'keyword', 'ignore_above'...\n",
       "auth           {'keyword': {'type': 'keyword', 'ignore_above'...\n",
       "beat                                                         NaN\n",
       "bytes          {'keyword': {'type': 'keyword', 'ignore_above'...\n",
       "clientip       {'keyword': {'type': 'keyword', 'ignore_above'...\n",
       "error_log                                                    NaN\n",
       "fields                                                       NaN\n",
       "geoip                                                        NaN\n",
       "host           {'keyword': {'type': 'keyword', 'ignore_above'...\n",
       "httpversion    {'keyword': {'type': 'keyword', 'ignore_above'...\n",
       "ident          {'keyword': {'type': 'keyword', 'ignore_above'...\n",
       "input_type     {'keyword': {'type': 'keyword', 'ignore_above'...\n",
       "message        {'keyword': {'type': 'keyword', 'ignore_above'...\n",
       "offset                                                       NaN\n",
       "referrer       {'keyword': {'type': 'keyword', 'ignore_above'...\n",
       "request        {'keyword': {'type': 'keyword', 'ignore_above'...\n",
       "response       {'keyword': {'type': 'keyword', 'ignore_above'...\n",
       "source         {'keyword': {'type': 'keyword', 'ignore_above'...\n",
       "tags           {'keyword': {'type': 'keyword', 'ignore_above'...\n",
       "timestamp      {'keyword': {'type': 'keyword', 'ignore_above'...\n",
       "type           {'keyword': {'type': 'keyword', 'ignore_above'...\n",
       "verb           {'keyword': {'type': 'keyword', 'ignore_above'...\n",
       "Name: fields, dtype: object"
      ]
     },
     "execution_count": 166,
     "metadata": {},
     "output_type": "execute_result"
    }
   ],
   "source": [
    "nodedf['fields']#.str.split(' : ', expand=True)\n"
   ]
  },
  {
   "cell_type": "code",
   "execution_count": 122,
   "metadata": {},
   "outputs": [
    {
     "data": {
      "text/html": [
       "<div>\n",
       "<style>\n",
       "    .dataframe thead tr:only-child th {\n",
       "        text-align: right;\n",
       "    }\n",
       "\n",
       "    .dataframe thead th {\n",
       "        text-align: left;\n",
       "    }\n",
       "\n",
       "    .dataframe tbody tr th {\n",
       "        vertical-align: top;\n",
       "    }\n",
       "</style>\n",
       "<table border=\"1\" class=\"dataframe\">\n",
       "  <thead>\n",
       "    <tr style=\"text-align: right;\">\n",
       "      <th></th>\n",
       "      <th>properties.@timestamp.type</th>\n",
       "      <th>properties.@version.fields.keyword.ignore_above</th>\n",
       "      <th>properties.@version.fields.keyword.type</th>\n",
       "      <th>properties.@version.type</th>\n",
       "      <th>properties.agent.fields.keyword.ignore_above</th>\n",
       "      <th>properties.agent.fields.keyword.type</th>\n",
       "      <th>properties.agent.type</th>\n",
       "      <th>properties.auth.fields.keyword.ignore_above</th>\n",
       "      <th>properties.auth.fields.keyword.type</th>\n",
       "      <th>properties.auth.type</th>\n",
       "      <th>...</th>\n",
       "      <th>properties.tags.type</th>\n",
       "      <th>properties.timestamp.fields.keyword.ignore_above</th>\n",
       "      <th>properties.timestamp.fields.keyword.type</th>\n",
       "      <th>properties.timestamp.type</th>\n",
       "      <th>properties.type.fields.keyword.ignore_above</th>\n",
       "      <th>properties.type.fields.keyword.type</th>\n",
       "      <th>properties.type.type</th>\n",
       "      <th>properties.verb.fields.keyword.ignore_above</th>\n",
       "      <th>properties.verb.fields.keyword.type</th>\n",
       "      <th>properties.verb.type</th>\n",
       "    </tr>\n",
       "  </thead>\n",
       "  <tbody>\n",
       "    <tr>\n",
       "      <th>0</th>\n",
       "      <td>date</td>\n",
       "      <td>256</td>\n",
       "      <td>keyword</td>\n",
       "      <td>text</td>\n",
       "      <td>256</td>\n",
       "      <td>keyword</td>\n",
       "      <td>text</td>\n",
       "      <td>256</td>\n",
       "      <td>keyword</td>\n",
       "      <td>text</td>\n",
       "      <td>...</td>\n",
       "      <td>text</td>\n",
       "      <td>256</td>\n",
       "      <td>keyword</td>\n",
       "      <td>text</td>\n",
       "      <td>256</td>\n",
       "      <td>keyword</td>\n",
       "      <td>text</td>\n",
       "      <td>256</td>\n",
       "      <td>keyword</td>\n",
       "      <td>text</td>\n",
       "    </tr>\n",
       "  </tbody>\n",
       "</table>\n",
       "<p>1 rows × 103 columns</p>\n",
       "</div>"
      ],
      "text/plain": [
       "  properties.@timestamp.type  properties.@version.fields.keyword.ignore_above  \\\n",
       "0                       date                                              256   \n",
       "\n",
       "  properties.@version.fields.keyword.type properties.@version.type  \\\n",
       "0                                 keyword                     text   \n",
       "\n",
       "   properties.agent.fields.keyword.ignore_above  \\\n",
       "0                                           256   \n",
       "\n",
       "  properties.agent.fields.keyword.type properties.agent.type  \\\n",
       "0                              keyword                  text   \n",
       "\n",
       "   properties.auth.fields.keyword.ignore_above  \\\n",
       "0                                          256   \n",
       "\n",
       "  properties.auth.fields.keyword.type properties.auth.type  \\\n",
       "0                             keyword                 text   \n",
       "\n",
       "           ...           properties.tags.type  \\\n",
       "0          ...                           text   \n",
       "\n",
       "  properties.timestamp.fields.keyword.ignore_above  \\\n",
       "0                                              256   \n",
       "\n",
       "  properties.timestamp.fields.keyword.type  properties.timestamp.type  \\\n",
       "0                                  keyword                       text   \n",
       "\n",
       "  properties.type.fields.keyword.ignore_above  \\\n",
       "0                                         256   \n",
       "\n",
       "  properties.type.fields.keyword.type  properties.type.type  \\\n",
       "0                             keyword                  text   \n",
       "\n",
       "  properties.verb.fields.keyword.ignore_above  \\\n",
       "0                                         256   \n",
       "\n",
       "  properties.verb.fields.keyword.type  properties.verb.type  \n",
       "0                             keyword                  text  \n",
       "\n",
       "[1 rows x 103 columns]"
      ]
     },
     "execution_count": 122,
     "metadata": {},
     "output_type": "execute_result"
    }
   ],
   "source": [
    "from pandas.io.json import json_normalize\n",
    "\n",
    "#Functional normalization\n",
    "d=json_normalize(c['wixed-production_8707cb7b-738e-4507-9899-8bac0f49c8fc']['mappings']['log'])\n",
    "\n",
    "d"
   ]
  },
  {
   "cell_type": "code",
   "execution_count": 135,
   "metadata": {},
   "outputs": [
    {
     "ename": "AttributeError",
     "evalue": "'DataFrame' object has no attribute 'mappings'",
     "output_type": "error",
     "traceback": [
      "\u001b[0;31m---------------------------------------------------------------------------\u001b[0m",
      "\u001b[0;31mAttributeError\u001b[0m                            Traceback (most recent call last)",
      "\u001b[0;32m<ipython-input-135-979820930ac9>\u001b[0m in \u001b[0;36m<module>\u001b[0;34m()\u001b[0m\n\u001b[0;32m----> 1\u001b[0;31m \u001b[0mpd\u001b[0m\u001b[0;34m.\u001b[0m\u001b[0mconcat\u001b[0m\u001b[0;34m(\u001b[0m\u001b[0;34m[\u001b[0m\u001b[0mpd\u001b[0m\u001b[0;34m.\u001b[0m\u001b[0mDataFrame\u001b[0m\u001b[0;34m.\u001b[0m\u001b[0mfrom_dict\u001b[0m\u001b[0;34m(\u001b[0m\u001b[0mitem\u001b[0m\u001b[0;34m,\u001b[0m \u001b[0morient\u001b[0m\u001b[0;34m=\u001b[0m\u001b[0;34m'index'\u001b[0m\u001b[0;34m)\u001b[0m\u001b[0;34m.\u001b[0m\u001b[0mT\u001b[0m \u001b[0;32mfor\u001b[0m \u001b[0mitem\u001b[0m \u001b[0;32min\u001b[0m \u001b[0mc\u001b[0m\u001b[0;34m.\u001b[0m\u001b[0mmappings\u001b[0m\u001b[0;34m]\u001b[0m\u001b[0;34m)\u001b[0m\u001b[0;34m\u001b[0m\u001b[0m\n\u001b[0m\u001b[1;32m      2\u001b[0m \u001b[0;34m\u001b[0m\u001b[0m\n\u001b[1;32m      3\u001b[0m \u001b[0mc\u001b[0m\u001b[0;34m.\u001b[0m\u001b[0mmappings\u001b[0m\u001b[0;34m\u001b[0m\u001b[0m\n",
      "\u001b[0;32m~/.local/lib/python3.5/site-packages/pandas/core/generic.py\u001b[0m in \u001b[0;36m__getattr__\u001b[0;34m(self, name)\u001b[0m\n\u001b[1;32m   3079\u001b[0m             \u001b[0;32mif\u001b[0m \u001b[0mname\u001b[0m \u001b[0;32min\u001b[0m \u001b[0mself\u001b[0m\u001b[0;34m.\u001b[0m\u001b[0m_info_axis\u001b[0m\u001b[0;34m:\u001b[0m\u001b[0;34m\u001b[0m\u001b[0m\n\u001b[1;32m   3080\u001b[0m                 \u001b[0;32mreturn\u001b[0m \u001b[0mself\u001b[0m\u001b[0;34m[\u001b[0m\u001b[0mname\u001b[0m\u001b[0;34m]\u001b[0m\u001b[0;34m\u001b[0m\u001b[0m\n\u001b[0;32m-> 3081\u001b[0;31m             \u001b[0;32mreturn\u001b[0m \u001b[0mobject\u001b[0m\u001b[0;34m.\u001b[0m\u001b[0m__getattribute__\u001b[0m\u001b[0;34m(\u001b[0m\u001b[0mself\u001b[0m\u001b[0;34m,\u001b[0m \u001b[0mname\u001b[0m\u001b[0;34m)\u001b[0m\u001b[0;34m\u001b[0m\u001b[0m\n\u001b[0m\u001b[1;32m   3082\u001b[0m \u001b[0;34m\u001b[0m\u001b[0m\n\u001b[1;32m   3083\u001b[0m     \u001b[0;32mdef\u001b[0m \u001b[0m__setattr__\u001b[0m\u001b[0;34m(\u001b[0m\u001b[0mself\u001b[0m\u001b[0;34m,\u001b[0m \u001b[0mname\u001b[0m\u001b[0;34m,\u001b[0m \u001b[0mvalue\u001b[0m\u001b[0;34m)\u001b[0m\u001b[0;34m:\u001b[0m\u001b[0;34m\u001b[0m\u001b[0m\n",
      "\u001b[0;31mAttributeError\u001b[0m: 'DataFrame' object has no attribute 'mappings'"
     ]
    }
   ],
   "source": [
    "pd.concat([pd.DataFrame.from_dict(item, orient='index').T for item in c.mappings])\n",
    "\n",
    "c.mappings"
   ]
  }
 ],
 "metadata": {
  "kernelspec": {
   "display_name": "Python 3",
   "language": "python",
   "name": "python3"
  },
  "language_info": {
   "codemirror_mode": {
    "name": "ipython",
    "version": 3
   },
   "file_extension": ".py",
   "mimetype": "text/x-python",
   "name": "python",
   "nbconvert_exporter": "python",
   "pygments_lexer": "ipython3",
   "version": "3.5.2"
  }
 },
 "nbformat": 4,
 "nbformat_minor": 2
}
